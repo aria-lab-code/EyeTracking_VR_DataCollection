{
 "cells": [
  {
   "cell_type": "code",
   "execution_count": 21,
   "id": "f2d65539",
   "metadata": {},
   "outputs": [],
   "source": [
    "import pandas as pd"
   ]
  },
  {
   "cell_type": "code",
   "execution_count": 22,
   "id": "d9275e3c",
   "metadata": {},
   "outputs": [],
   "source": [
    "df = pd.read_csv(\"../EyeTrackingTest/StandardSaccade_4.txt\", delimiter=\",\")"
   ]
  },
  {
   "cell_type": "code",
   "execution_count": 25,
   "id": "7b5bbb1c",
   "metadata": {},
   "outputs": [
    {
     "name": "stdout",
     "output_type": "stream",
     "text": [
      "0       0.985199\n",
      "1       0.985138\n",
      "2       0.984757\n",
      "3       0.984757\n",
      "4       0.984680\n",
      "          ...   \n",
      "7196    0.841476\n",
      "7197    0.841476\n",
      "7198    0.841431\n",
      "7199    0.842026\n",
      "7200    0.841797\n",
      "Name: gaze_direct_L.z, Length: 7201, dtype: float64\n",
      "0       0.999184\n",
      "1       0.999222\n",
      "2       0.999259\n",
      "3       0.999290\n",
      "4       0.999290\n",
      "          ...   \n",
      "7196    0.409560\n",
      "7197    0.409560\n",
      "7198    0.409506\n",
      "7199    0.409673\n",
      "7200    0.409698\n",
      "Name: forward.z, Length: 7201, dtype: float64\n"
     ]
    }
   ],
   "source": [
    "print(df[\"gaze_direct_L.z\"])\n",
    "print(df[\"forward.z\"])"
   ]
  },
  {
   "cell_type": "code",
   "execution_count": null,
   "id": "30f88b73",
   "metadata": {},
   "outputs": [],
   "source": []
  }
 ],
 "metadata": {
  "kernelspec": {
   "display_name": "Python 3 (ipykernel)",
   "language": "python",
   "name": "python3"
  },
  "language_info": {
   "codemirror_mode": {
    "name": "ipython",
    "version": 3
   },
   "file_extension": ".py",
   "mimetype": "text/x-python",
   "name": "python",
   "nbconvert_exporter": "python",
   "pygments_lexer": "ipython3",
   "version": "3.9.13"
  }
 },
 "nbformat": 4,
 "nbformat_minor": 5
}
