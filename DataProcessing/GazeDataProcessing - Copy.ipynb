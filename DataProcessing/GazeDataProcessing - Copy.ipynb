{
 "cells": [
  {
   "cell_type": "code",
   "execution_count": 1,
   "id": "f2d65539",
   "metadata": {},
   "outputs": [],
   "source": [
    "import pandas as pd\n",
    "pd.options.mode.chained_assignment = None\n",
    "import matplotlib.pyplot as plt\n",
    "import numpy as np\n",
    "import torch\n",
    "import torch.nn as nn\n",
    "from torch.autograd import Variable\n",
    "import os\n",
    "import torch.onnx"
   ]
  },
  {
   "cell_type": "markdown",
   "id": "6bc9e59d",
   "metadata": {},
   "source": [
    "## Data Exploration"
   ]
  },
  {
   "cell_type": "code",
   "execution_count": 2,
   "id": "d9275e3c",
   "metadata": {},
   "outputs": [],
   "source": [
    "dataframes = []\n",
    "train_data_directory = \"../EyeTrackingTest/Data/Train\"\n",
    "for file in os.listdir(train_data_directory):\n",
    "    dataframes.append(pd.read_csv(os.path.join(train_data_directory, file), delimiter=\",\").iloc[:,:-1])"
   ]
  },
  {
   "cell_type": "code",
   "execution_count": 3,
   "id": "6f93b5dd",
   "metadata": {},
   "outputs": [
    {
     "data": {
      "text/html": [
       "<div>\n",
       "<style scoped>\n",
       "    .dataframe tbody tr th:only-of-type {\n",
       "        vertical-align: middle;\n",
       "    }\n",
       "\n",
       "    .dataframe tbody tr th {\n",
       "        vertical-align: top;\n",
       "    }\n",
       "\n",
       "    .dataframe thead th {\n",
       "        text-align: right;\n",
       "    }\n",
       "</style>\n",
       "<table border=\"1\" class=\"dataframe\">\n",
       "  <thead>\n",
       "    <tr style=\"text-align: right;\">\n",
       "      <th></th>\n",
       "      <th>time(100ns)</th>\n",
       "      <th>time_stamp(ms)</th>\n",
       "      <th>frame</th>\n",
       "      <th>gaze_direct_L.x</th>\n",
       "      <th>gaze_direct_L.y</th>\n",
       "      <th>gaze_direct_L.z</th>\n",
       "      <th>gaze_direct_R.x</th>\n",
       "      <th>gaze_direct_R.y</th>\n",
       "      <th>gaze_direct_R.z</th>\n",
       "      <th>forward.x</th>\n",
       "      <th>forward.y</th>\n",
       "      <th>forward.z</th>\n",
       "      <th>label.x</th>\n",
       "      <th>label.y</th>\n",
       "      <th>label.z</th>\n",
       "    </tr>\n",
       "  </thead>\n",
       "  <tbody>\n",
       "    <tr>\n",
       "      <th>0</th>\n",
       "      <td>638000597804996743</td>\n",
       "      <td>40413</td>\n",
       "      <td>560</td>\n",
       "      <td>-0.023819</td>\n",
       "      <td>0.115951</td>\n",
       "      <td>0.992966</td>\n",
       "      <td>0.016953</td>\n",
       "      <td>0.111084</td>\n",
       "      <td>0.993652</td>\n",
       "      <td>0.013144</td>\n",
       "      <td>0.088526</td>\n",
       "      <td>0.995987</td>\n",
       "      <td>0.013144</td>\n",
       "      <td>0.088526</td>\n",
       "      <td>0.995987</td>\n",
       "    </tr>\n",
       "    <tr>\n",
       "      <th>1</th>\n",
       "      <td>638000597805076741</td>\n",
       "      <td>40421</td>\n",
       "      <td>560</td>\n",
       "      <td>-0.023819</td>\n",
       "      <td>0.116440</td>\n",
       "      <td>0.992905</td>\n",
       "      <td>0.017181</td>\n",
       "      <td>0.109711</td>\n",
       "      <td>0.993805</td>\n",
       "      <td>0.013144</td>\n",
       "      <td>0.088526</td>\n",
       "      <td>0.995987</td>\n",
       "      <td>0.013634</td>\n",
       "      <td>0.088512</td>\n",
       "      <td>0.995982</td>\n",
       "    </tr>\n",
       "    <tr>\n",
       "      <th>2</th>\n",
       "      <td>638000597805166743</td>\n",
       "      <td>40430</td>\n",
       "      <td>561</td>\n",
       "      <td>-0.023788</td>\n",
       "      <td>0.116440</td>\n",
       "      <td>0.992905</td>\n",
       "      <td>0.015930</td>\n",
       "      <td>0.109009</td>\n",
       "      <td>0.993912</td>\n",
       "      <td>0.013634</td>\n",
       "      <td>0.088512</td>\n",
       "      <td>0.995982</td>\n",
       "      <td>0.013643</td>\n",
       "      <td>0.088508</td>\n",
       "      <td>0.995982</td>\n",
       "    </tr>\n",
       "    <tr>\n",
       "      <th>3</th>\n",
       "      <td>638000597805246741</td>\n",
       "      <td>40438</td>\n",
       "      <td>562</td>\n",
       "      <td>-0.023560</td>\n",
       "      <td>0.115784</td>\n",
       "      <td>0.992981</td>\n",
       "      <td>0.016022</td>\n",
       "      <td>0.109375</td>\n",
       "      <td>0.993866</td>\n",
       "      <td>0.013643</td>\n",
       "      <td>0.088508</td>\n",
       "      <td>0.995982</td>\n",
       "      <td>0.013599</td>\n",
       "      <td>0.088151</td>\n",
       "      <td>0.996014</td>\n",
       "    </tr>\n",
       "    <tr>\n",
       "      <th>4</th>\n",
       "      <td>638000597805326743</td>\n",
       "      <td>40446</td>\n",
       "      <td>563</td>\n",
       "      <td>-0.023300</td>\n",
       "      <td>0.115921</td>\n",
       "      <td>0.992981</td>\n",
       "      <td>0.014969</td>\n",
       "      <td>0.108475</td>\n",
       "      <td>0.993973</td>\n",
       "      <td>0.013599</td>\n",
       "      <td>0.088151</td>\n",
       "      <td>0.996014</td>\n",
       "      <td>0.013599</td>\n",
       "      <td>0.088151</td>\n",
       "      <td>0.996014</td>\n",
       "    </tr>\n",
       "  </tbody>\n",
       "</table>\n",
       "</div>"
      ],
      "text/plain": [
       "          time(100ns)  time_stamp(ms)  frame  gaze_direct_L.x  \\\n",
       "0  638000597804996743           40413    560        -0.023819   \n",
       "1  638000597805076741           40421    560        -0.023819   \n",
       "2  638000597805166743           40430    561        -0.023788   \n",
       "3  638000597805246741           40438    562        -0.023560   \n",
       "4  638000597805326743           40446    563        -0.023300   \n",
       "\n",
       "   gaze_direct_L.y  gaze_direct_L.z  gaze_direct_R.x  gaze_direct_R.y  \\\n",
       "0         0.115951         0.992966         0.016953         0.111084   \n",
       "1         0.116440         0.992905         0.017181         0.109711   \n",
       "2         0.116440         0.992905         0.015930         0.109009   \n",
       "3         0.115784         0.992981         0.016022         0.109375   \n",
       "4         0.115921         0.992981         0.014969         0.108475   \n",
       "\n",
       "   gaze_direct_R.z  forward.x  forward.y  forward.z   label.x   label.y  \\\n",
       "0         0.993652   0.013144   0.088526   0.995987  0.013144  0.088526   \n",
       "1         0.993805   0.013144   0.088526   0.995987  0.013634  0.088512   \n",
       "2         0.993912   0.013634   0.088512   0.995982  0.013643  0.088508   \n",
       "3         0.993866   0.013643   0.088508   0.995982  0.013599  0.088151   \n",
       "4         0.993973   0.013599   0.088151   0.996014  0.013599  0.088151   \n",
       "\n",
       "    label.z  \n",
       "0  0.995987  \n",
       "1  0.995982  \n",
       "2  0.995982  \n",
       "3  0.996014  \n",
       "4  0.996014  "
      ]
     },
     "execution_count": 3,
     "metadata": {},
     "output_type": "execute_result"
    }
   ],
   "source": [
    "for j in range(len(dataframes)):\n",
    "    df = dataframes[j]\n",
    "    labelx = []\n",
    "    labely = []\n",
    "    labelz = []\n",
    "    for i in range(df.shape[0] - 1):\n",
    "        label_row = df.iloc[i + 1]\n",
    "        labelx.append(label_row[\"forward.x\"])\n",
    "        labely.append(label_row[\"forward.y\"])\n",
    "        labelz.append(label_row[\"forward.z\"])\n",
    "\n",
    "    df = df.iloc[:-1, :]\n",
    "    df[\"label.x\"] = labelx\n",
    "    df[\"label.y\"] = labely\n",
    "    df[\"label.z\"] = labelz\n",
    "    dataframes[j] = df\n",
    "\n",
    "dataframes[0].head(5)"
   ]
  },
  {
   "cell_type": "code",
   "execution_count": 4,
   "id": "18be8854",
   "metadata": {},
   "outputs": [
    {
     "data": {
      "image/png": "[encoded data removed]",
      "text/plain": [
       "<Figure size 1000x600 with 1 Axes>"
      ]
     },
     "metadata": {},
     "output_type": "display_data"
    }
   ],
   "source": [
    "df = dataframes[0]\n",
    "plt.figure(figsize=(10,6))\n",
    "x = df[\"time_stamp(ms)\"]\n",
    "plt.xlabel(\"time_stamp(ms)\")\n",
    "\n",
    "plt.plot(x, df[\"gaze_direct_L.y\"], label = \"gaze_direct_L.y\")\n",
    "plt.plot(x, df[\"forward.y\"], label=\"forward.y\")\n",
    "\n",
    "\n",
    "plt.title(\"Neck Prediction Y\")\n",
    "plt.legend()\n",
    "plt.show()"
   ]
  },
  {
   "cell_type": "code",
   "execution_count": 5,
   "id": "3f885933",
   "metadata": {
    "scrolled": false
   },
   "outputs": [],
   "source": [
    "min_size = float('inf')\n",
    "for df in dataframes:\n",
    "    if df.shape[0] < min_size:\n",
    "        min_size = df.shape[0]\n",
    "\n",
    "for df in dataframes:\n",
    "    df = df[:min_size]"
   ]
  },
  {
   "cell_type": "code",
   "execution_count": 6,
   "id": "a6ac7c11",
   "metadata": {},
   "outputs": [
    {
     "name": "stdout",
     "output_type": "stream",
     "text": [
      "torch.Size([7200, 6, 9]) torch.Size([7200, 6, 3])\n"
     ]
    }
   ],
   "source": [
    "X_series = []\n",
    "y_series = []\n",
    "for df in dataframes:\n",
    "    X = df.iloc[:, 3:-3].to_numpy()\n",
    "    y = df.iloc[:, -3:].to_numpy()\n",
    "    \n",
    "    X = Variable(torch.Tensor(X))\n",
    "    y = Variable(torch.Tensor(y))\n",
    "    \n",
    "    X = torch.reshape(X, (X.shape[0], 1, X.shape[1]))\n",
    "    X_series.append(X)\n",
    "    y_series.append(y)\n",
    "X_series = torch.cat(X_series, dim=1)\n",
    "y_series = torch.stack(y_series, dim=1)\n",
    "print(X_series.shape, y_series.shape)"
   ]
  },
  {
   "cell_type": "markdown",
   "id": "2c160961",
   "metadata": {},
   "source": [
    "## LSTM Model"
   ]
  },
  {
   "cell_type": "code",
   "execution_count": 7,
   "id": "ebfae681",
   "metadata": {},
   "outputs": [],
   "source": [
    "class CustomLSTM(nn.Module):\n",
    "    def __init__(self, input_size, output_size=3, hidden_size=9):\n",
    "        super(CustomLSTM, self).__init__()\n",
    "        self.num_classes = output_size\n",
    "        self.num_layers = 1\n",
    "        self.input_size = input_size\n",
    "        self.hidden_size = hidden_size\n",
    "        \n",
    "        self.lstm = nn.LSTM(input_size=self.input_size, hidden_size=self.hidden_size, num_layers=self.num_layers, batch_first=True)\n",
    "        self.fc = nn.Sequential(\n",
    "            nn.Tanh(),\n",
    "            nn.Linear(self.hidden_size, 128),\n",
    "            nn.Tanh(),\n",
    "            nn.Linear(128, self.num_classes)\n",
    "        )\n",
    "    \n",
    "    def forward(self, x, h_0=None, c_0=None):\n",
    "        if h_0 is None:\n",
    "            h_0 = Variable(torch.zeros(self.num_layers, x.size(0), self.hidden_size)).to(torch.device(\"cuda\"))\n",
    "        if c_0 is None:\n",
    "            c_0 = Variable(torch.zeros(self.num_layers, x.size(0), self.hidden_size)).to(torch.device(\"cuda\"))\n",
    "        \n",
    "        output, (hn, cn) = self.lstm(x, (h_0, c_0))\n",
    "        _hn = hn.view(-1, self.hidden_size)\n",
    "        out = self.fc(_hn)\n",
    "        return out, hn, cn"
   ]
  },
  {
   "cell_type": "markdown",
   "id": "e6ba27ba",
   "metadata": {},
   "source": [
    "## Training Loop and Results"
   ]
  },
  {
   "cell_type": "code",
   "execution_count": 8,
   "id": "9767714e",
   "metadata": {},
   "outputs": [],
   "source": [
    "def train(model, X, y, optimizer, criterion, device):\n",
    "    model.train()\n",
    "    optimizer.zero_grad()\n",
    "    preds = torch.zeros((7200, 6, 3)).to(device)\n",
    "    for j in range(X.shape[1]):\n",
    "        instance = X[0:1, j:j+1, :]\n",
    "        hn = None\n",
    "        cn = None\n",
    "        for i in range(6000):\n",
    "            pred, hn, cn = model(instance, hn, cn)\n",
    "            pred = nn.functional.normalize(pred)\n",
    "            preds[i, j] = pred\n",
    "            #cur_loss = criterion(pred, y[i:i+1, j])\n",
    "            #loss += criterion(pred, y[i:i+1, j]) / (6000 * X.shape[1])\n",
    "            #losses.append(cur_loss.item())\n",
    "            \n",
    "            if i < 5999:\n",
    "                l_pred = nn.functional.normalize(torch.reshape(X[i+1,j:j+1,6:9] + X[i+1,j:j+1,0:3] - pred[0], (1,3)))\n",
    "                r_pred = nn.functional.normalize(torch.reshape(X[i+1,j:j+1,6:9] + X[i+1,j:j+1,3:6] - pred[0], (1,3)))\n",
    "                instance = torch.reshape(torch.cat((l_pred, r_pred, pred), axis=1), (1,1,9))\n",
    "    loss = criterion(preds[:6000], y[:6000])\n",
    "    loss.backward()\n",
    "    optimizer.step()\n",
    "    return loss.item()"
   ]
  },
  {
   "cell_type": "code",
   "execution_count": 9,
   "id": "5c956ac2",
   "metadata": {},
   "outputs": [],
   "source": [
    "def val(model, X, y, criterion, device):\n",
    "    model.eval()\n",
    "    preds = torch.zeros((7200, 6, 3)).to(device)\n",
    "    for j in range(X.shape[1]):\n",
    "        instance = X[0:1, j:j+1, :]\n",
    "        hn = None\n",
    "        cn = None\n",
    "        for i in range(X.shape[0]):\n",
    "            pred, hn, cn = model(instance, hn, cn)\n",
    "            pred = nn.functional.normalize(pred)\n",
    "            preds[i, j] = pred\n",
    "            if i < X.shape[0] - 1:\n",
    "                l_pred = nn.functional.normalize(torch.reshape(X[i+1,j:j+1,6:9] + X[i+1,j:j+1,0:3] - pred[0], (1,3)))\n",
    "                r_pred = nn.functional.normalize(torch.reshape(X[i+1,j:j+1,6:9] + X[i+1,j:j+1,3:6] - pred[0], (1,3)))\n",
    "                instance = torch.reshape(torch.cat((l_pred, r_pred, pred), axis=1), (1,1,9))\n",
    "    loss = criterion(preds[6000:], y[6000:])\n",
    "    return loss.item()"
   ]
  },
  {
   "cell_type": "code",
   "execution_count": 10,
   "id": "8d1d7b26",
   "metadata": {
    "scrolled": true
   },
   "outputs": [],
   "source": [
    "def train_loop(model, X, y, optimizer, device, scheduler, num_epochs):\n",
    "    train_losses = []\n",
    "    val_losses = []\n",
    "    min_val_loss = float('inf')\n",
    "    counter = 0\n",
    "    X = X.to(device)\n",
    "    y = y.to(device)\n",
    "    for epoch in range(num_epochs):\n",
    "        train_loss = train(model, X, y, optimizer, criterion, device)\n",
    "        train_losses.append(train_loss)\n",
    "        \n",
    "        val_loss = val(model, X, y, criterion, device)\n",
    "        val_losses.append(val_loss)\n",
    "        \n",
    "        print(\"Epoch: %d, train loss: %1.5f, val loss: %1.5f\" % (epoch, train_loss, \n",
    "                                                                 val_losses[epoch]))\n",
    "        if val_losses[epoch] < min_val_loss:\n",
    "            min_val_loss = val_losses[epoch]\n",
    "            counter = 0\n",
    "            torch.save(model.state_dict(), \"best_val.pth\")\n",
    "        else:\n",
    "            counter += 1\n",
    "            if counter > 10:\n",
    "                break\n",
    "        \n",
    "        if epoch % 10 == 0:\n",
    "            scheduler.step()\n",
    "        \n",
    "    return train_losses, val_losses"
   ]
  },
  {
   "cell_type": "code",
   "execution_count": 11,
   "id": "c554171f",
   "metadata": {},
   "outputs": [],
   "source": [
    "learning_rate = 0.001\n",
    "criterion = torch.nn.MSELoss()\n",
    "\n",
    "device = torch.device(\"cuda\")\n",
    "\n",
    "lr_xyz = CustomLSTM(input_size=9).to(device)\n",
    "optimizer = torch.optim.Adam(lr_xyz.parameters(), lr=learning_rate)\n",
    "scheduler = torch.optim.lr_scheduler.ExponentialLR(optimizer, gamma=0.9)"
   ]
  },
  {
   "cell_type": "code",
   "execution_count": 12,
   "id": "27d21f5a",
   "metadata": {
    "scrolled": true
   },
   "outputs": [
    {
     "name": "stdout",
     "output_type": "stream",
     "text": [
      "Epoch: 0, train loss: 0.55595, val loss: 0.26436\n",
      "Epoch: 1, train loss: 0.29061, val loss: 0.14624\n",
      "Epoch: 2, train loss: 0.16158, val loss: 0.10403\n",
      "Epoch: 3, train loss: 0.10871, val loss: 0.09608\n",
      "Epoch: 4, train loss: 0.09718, val loss: 0.09607\n",
      "Epoch: 5, train loss: 0.09900, val loss: 0.09581\n",
      "Epoch: 6, train loss: 0.10196, val loss: 0.09189\n",
      "Epoch: 7, train loss: 0.10100, val loss: 0.08472\n",
      "Epoch: 8, train loss: 0.09606, val loss: 0.07601\n",
      "Epoch: 9, train loss: 0.08878, val loss: 0.06730\n",
      "Epoch: 10, train loss: 0.08085, val loss: 0.05966\n",
      "Epoch: 11, train loss: 0.07353, val loss: 0.05397\n",
      "Epoch: 12, train loss: 0.06785, val loss: 0.04939\n",
      "Epoch: 13, train loss: 0.06310, val loss: 0.04580\n",
      "Epoch: 14, train loss: 0.05924, val loss: 0.04302\n",
      "Epoch: 15, train loss: 0.05609, val loss: 0.04076\n",
      "Epoch: 16, train loss: 0.05343, val loss: 0.03885\n",
      "Epoch: 17, train loss: 0.05107, val loss: 0.03712\n",
      "Epoch: 18, train loss: 0.04884, val loss: 0.03544\n",
      "Epoch: 19, train loss: 0.04663, val loss: 0.03371\n",
      "Epoch: 20, train loss: 0.04434, val loss: 0.03185\n",
      "Epoch: 21, train loss: 0.04191, val loss: 0.03006\n",
      "Epoch: 22, train loss: 0.03957, val loss: 0.02813\n",
      "Epoch: 23, train loss: 0.03711, val loss: 0.02609\n",
      "Epoch: 24, train loss: 0.03455, val loss: 0.02400\n",
      "Epoch: 25, train loss: 0.03193, val loss: 0.02185\n",
      "Epoch: 26, train loss: 0.02930, val loss: 0.01975\n",
      "Epoch: 27, train loss: 0.02672, val loss: 0.01772\n",
      "Epoch: 28, train loss: 0.02422, val loss: 0.01586\n",
      "Epoch: 29, train loss: 0.02189, val loss: 0.01420\n",
      "Epoch: 30, train loss: 0.01977, val loss: 0.01277\n",
      "Epoch: 31, train loss: 0.01788, val loss: 0.01179\n",
      "Epoch: 32, train loss: 0.01650, val loss: 0.01105\n",
      "Epoch: 33, train loss: 0.01533, val loss: 0.01049\n",
      "Epoch: 34, train loss: 0.01436, val loss: 0.01003\n",
      "Epoch: 35, train loss: 0.01351, val loss: 0.00980\n",
      "Epoch: 36, train loss: 0.01287, val loss: 0.00968\n",
      "Epoch: 37, train loss: 0.01236, val loss: 0.00974\n",
      "Epoch: 38, train loss: 0.01201, val loss: 0.00974\n",
      "Epoch: 39, train loss: 0.01183, val loss: 0.01010\n",
      "Epoch: 40, train loss: 0.01202, val loss: 0.00999\n",
      "Epoch: 41, train loss: 0.01174, val loss: 0.00997\n",
      "Epoch: 42, train loss: 0.01163, val loss: 0.01001\n",
      "Epoch: 43, train loss: 0.01154, val loss: 0.01010\n",
      "Epoch: 44, train loss: 0.01155, val loss: 0.01024\n",
      "Epoch: 45, train loss: 0.01160, val loss: 0.01040\n",
      "Epoch: 46, train loss: 0.01169, val loss: 0.01056\n",
      "Epoch: 47, train loss: 0.01180, val loss: 0.01074\n"
     ]
    }
   ],
   "source": [
    "train_losses, val_losses = train_loop(lr_xyz, X_series, y_series, optimizer, device, scheduler, 1000)"
   ]
  },
  {
   "cell_type": "code",
   "execution_count": null,
   "id": "ef209b71",
   "metadata": {},
   "outputs": [],
   "source": []
  },
  {
   "cell_type": "code",
   "execution_count": 13,
   "id": "3831b773",
   "metadata": {},
   "outputs": [
    {
     "ename": "TypeError",
     "evalue": "Expected state_dict to be dict-like, got <class 'method'>.",
     "output_type": "error",
     "traceback": [
      "\u001b[1;31m---------------------------------------------------------------------------\u001b[0m",
      "\u001b[1;31mTypeError\u001b[0m                                 Traceback (most recent call last)",
      "Cell \u001b[1;32mIn[13], line 1\u001b[0m\n\u001b[1;32m----> 1\u001b[0m \u001b[43mlr_xyz\u001b[49m\u001b[38;5;241;43m.\u001b[39;49m\u001b[43mload_state_dict\u001b[49m\u001b[43m(\u001b[49m\u001b[43mtorch\u001b[49m\u001b[38;5;241;43m.\u001b[39;49m\u001b[43mload\u001b[49m\u001b[43m(\u001b[49m\u001b[38;5;124;43m\"\u001b[39;49m\u001b[38;5;124;43mbest_val.pth\u001b[39;49m\u001b[38;5;124;43m\"\u001b[39;49m\u001b[43m)\u001b[49m\u001b[43m)\u001b[49m\n\u001b[0;32m      2\u001b[0m torch\u001b[38;5;241m.\u001b[39monnx\u001b[38;5;241m.\u001b[39mexport(lr_xyz\u001b[38;5;241m.\u001b[39mcpu(),               \u001b[38;5;66;03m# model being run\u001b[39;00m\n\u001b[0;32m      3\u001b[0m                   (X[\u001b[38;5;241m0\u001b[39m:\u001b[38;5;241m1\u001b[39m, \u001b[38;5;241m0\u001b[39m:\u001b[38;5;241m1\u001b[39m, :], torch\u001b[38;5;241m.\u001b[39mzeros(\u001b[38;5;241m1\u001b[39m, \u001b[38;5;241m1\u001b[39m, \u001b[38;5;241m9\u001b[39m), torch\u001b[38;5;241m.\u001b[39mzeros(\u001b[38;5;241m1\u001b[39m, \u001b[38;5;241m1\u001b[39m, \u001b[38;5;241m9\u001b[39m)), \u001b[38;5;66;03m# model input (or a tuple for multiple inputs)\u001b[39;00m\n\u001b[0;32m      4\u001b[0m                   \u001b[38;5;124m\"\u001b[39m\u001b[38;5;124mlr_xyz.onnx\u001b[39m\u001b[38;5;124m\"\u001b[39m,   \u001b[38;5;66;03m# where to save the model (can be a file or file-like object)\u001b[39;00m\n\u001b[1;32m   (...)\u001b[0m\n\u001b[0;32m      8\u001b[0m                   input_names \u001b[38;5;241m=\u001b[39m [\u001b[38;5;124m'\u001b[39m\u001b[38;5;124minput\u001b[39m\u001b[38;5;124m'\u001b[39m, \u001b[38;5;124m'\u001b[39m\u001b[38;5;124mh0\u001b[39m\u001b[38;5;124m'\u001b[39m, \u001b[38;5;124m'\u001b[39m\u001b[38;5;124mc0\u001b[39m\u001b[38;5;124m'\u001b[39m],   \u001b[38;5;66;03m# the model's input names\u001b[39;00m\n\u001b[0;32m      9\u001b[0m                   output_names \u001b[38;5;241m=\u001b[39m [\u001b[38;5;124m'\u001b[39m\u001b[38;5;124moutput\u001b[39m\u001b[38;5;124m'\u001b[39m, \u001b[38;5;124m'\u001b[39m\u001b[38;5;124mhn\u001b[39m\u001b[38;5;124m'\u001b[39m, \u001b[38;5;124m'\u001b[39m\u001b[38;5;124mcn\u001b[39m\u001b[38;5;124m'\u001b[39m])\n",
      "File \u001b[1;32m~\\Anaconda3\\envs\\EyeTracking\\lib\\site-packages\\torch\\nn\\modules\\module.py:1624\u001b[0m, in \u001b[0;36mModule.load_state_dict\u001b[1;34m(self, state_dict, strict)\u001b[0m\n\u001b[0;32m   1601\u001b[0m \u001b[38;5;124mr\u001b[39m\u001b[38;5;124;03m\"\"\"Copies parameters and buffers from :attr:`state_dict` into\u001b[39;00m\n\u001b[0;32m   1602\u001b[0m \u001b[38;5;124;03mthis module and its descendants. If :attr:`strict` is ``True``, then\u001b[39;00m\n\u001b[0;32m   1603\u001b[0m \u001b[38;5;124;03mthe keys of :attr:`state_dict` must exactly match the keys returned\u001b[39;00m\n\u001b[1;32m   (...)\u001b[0m\n\u001b[0;32m   1621\u001b[0m \u001b[38;5;124;03m    ``RuntimeError``.\u001b[39;00m\n\u001b[0;32m   1622\u001b[0m \u001b[38;5;124;03m\"\"\"\u001b[39;00m\n\u001b[0;32m   1623\u001b[0m \u001b[38;5;28;01mif\u001b[39;00m \u001b[38;5;129;01mnot\u001b[39;00m \u001b[38;5;28misinstance\u001b[39m(state_dict, Mapping):\n\u001b[1;32m-> 1624\u001b[0m     \u001b[38;5;28;01mraise\u001b[39;00m \u001b[38;5;167;01mTypeError\u001b[39;00m(\u001b[38;5;124m\"\u001b[39m\u001b[38;5;124mExpected state_dict to be dict-like, got \u001b[39m\u001b[38;5;132;01m{}\u001b[39;00m\u001b[38;5;124m.\u001b[39m\u001b[38;5;124m\"\u001b[39m\u001b[38;5;241m.\u001b[39mformat(\u001b[38;5;28mtype\u001b[39m(state_dict)))\n\u001b[0;32m   1626\u001b[0m missing_keys: List[\u001b[38;5;28mstr\u001b[39m] \u001b[38;5;241m=\u001b[39m []\n\u001b[0;32m   1627\u001b[0m unexpected_keys: List[\u001b[38;5;28mstr\u001b[39m] \u001b[38;5;241m=\u001b[39m []\n",
      "\u001b[1;31mTypeError\u001b[0m: Expected state_dict to be dict-like, got <class 'method'>."
     ]
    }
   ],
   "source": [
    "lr_xyz.load_state_dict(torch.load(\"best_val.pth\"))\n",
    "torch.onnx.export(lr_xyz.cpu(),               # model being run\n",
    "                  (X[0:1, 0:1, :], torch.zeros(1, 1, 9), torch.zeros(1, 1, 9)), # model input (or a tuple for multiple inputs)\n",
    "                  \"lr_xyz.onnx\",   # where to save the model (can be a file or file-like object)\n",
    "                  export_params=True,        # store the trained parameter weights inside the model file\n",
    "                  opset_version=10,          # the ONNX version to export the model to\n",
    "                  do_constant_folding=True,  # whether to execute constant folding for optimization\n",
    "                  input_names = ['input', 'h0', 'c0'],   # the model's input names\n",
    "                  output_names = ['output', 'hn', 'cn']) # the model's output names"
   ]
  },
  {
   "cell_type": "code",
   "execution_count": null,
   "id": "6e3c3731",
   "metadata": {},
   "outputs": [],
   "source": [
    "X = X_series[:, 1:2, :]\n",
    "y = y_series[:, 1, :]\n",
    "\n",
    "print(X.shape, y.shape)\n",
    "lr_xyz.to(device)"
   ]
  },
  {
   "cell_type": "code",
   "execution_count": null,
   "id": "3179055c",
   "metadata": {},
   "outputs": [],
   "source": [
    "train_predict, _, _ = lr_xyz(X.to(device))\n",
    "data_predict = np.array([X[0, 0, 6:9].data.numpy()])\n",
    "data_predict = np.append(data_predict, train_predict.data.cpu().numpy(), axis=0)\n",
    "\n",
    "dataY_plot = np.array([X[0, 0, 6:9].data.numpy()])\n",
    "dataY_plot = np.append(dataY_plot, y.data.numpy(), axis=0)\n",
    "print(data_predict.shape, dataY_plot.shape)"
   ]
  },
  {
   "cell_type": "code",
   "execution_count": null,
   "id": "1ce6c51d",
   "metadata": {},
   "outputs": [],
   "source": [
    "data_compound = [X[0, 0, 6:9].data.numpy()]\n",
    "hn = None\n",
    "cn = None\n",
    "for i in range(X.size(0)):\n",
    "    instance = X[i:i+1]\n",
    "    pred, hn, cn = lr_xyz(instance.to(device), hn, cn)\n",
    "    pred = nn.functional.normalize(pred)\n",
    "    pred = pred.data.cpu().numpy()\n",
    "    cur = X[i, 0, 6:9].data.numpy()\n",
    "    data_compound.append(pred[0])\n",
    "    if i < X.size(0) - 1:\n",
    "        X[i+1,0,0:3] = nn.functional.normalize(torch.reshape(X[i+1,0,6:9] + X[i+1,0,0:3] - torch.Tensor(pred[0]), (1,3))).view(-1,3)\n",
    "        X[i+1,0,3:6] = nn.functional.normalize(torch.reshape(X[i+1,0,6:9] + X[i+1,0,3:6] - torch.Tensor(pred[0]), (1,3))).view(-1,3)\n",
    "        X[i+1,0,6] = pred[0,0].item()\n",
    "        X[i+1,0,7] = pred[0,1].item()\n",
    "        X[i+1,0,8] = pred[0,2].item()\n",
    "data_compound = np.array(data_compound)\n",
    "print(data_compound.shape)"
   ]
  },
  {
   "cell_type": "code",
   "execution_count": null,
   "id": "7b5b7549",
   "metadata": {},
   "outputs": [],
   "source": [
    "plt.figure(figsize=(10,6))\n",
    "plt.axvline(x=6000, c='r', linestyle=\"--\")\n",
    "\n",
    "plt.plot(dataY_plot[:, 0], label=\"Actual Data\")\n",
    "#plt.plot(data_predict[:, 0], label=\"Predicted Data\")\n",
    "plt.plot(data_compound[:, 0], label=\"Compounded Data\")\n",
    "plt.title(\"Neck Prediction X\")\n",
    "plt.legend()\n",
    "plt.show()"
   ]
  },
  {
   "cell_type": "code",
   "execution_count": null,
   "id": "c6080e23",
   "metadata": {},
   "outputs": [],
   "source": [
    "plt.figure(figsize=(10,6))\n",
    "plt.axvline(x=6000, c='r', linestyle=\"--\")\n",
    "\n",
    "plt.plot(dataY_plot[:, 1], label=\"Actual Data\")\n",
    "#plt.plot(data_predict[:, 1], label=\"Predicted Data\")\n",
    "plt.plot(data_compound[:, 1], label=\"Compounded Data\")\n",
    "plt.title(\"Neck Prediction Y\")\n",
    "plt.legend()\n",
    "plt.show()"
   ]
  },
  {
   "cell_type": "code",
   "execution_count": null,
   "id": "0ee2665f",
   "metadata": {},
   "outputs": [],
   "source": [
    "plt.figure(figsize=(10,6))\n",
    "plt.axvline(x=6000, c='r', linestyle=\"--\")\n",
    "\n",
    "plt.plot(dataY_plot[:, 2], label=\"Actual Data\")\n",
    "#plt.plot(data_predict[:, 2], label=\"Predicted Data\")\n",
    "plt.plot(data_compound[:, 2], label=\"Compounded Data\")\n",
    "plt.title(\"Neck Prediction Z\")\n",
    "plt.legend()\n",
    "plt.show()"
   ]
  },
  {
   "cell_type": "markdown",
   "id": "1ccd8a6c",
   "metadata": {},
   "source": [
    "## Testing on New Series"
   ]
  },
  {
   "cell_type": "code",
   "execution_count": null,
   "id": "01ec7b33",
   "metadata": {},
   "outputs": [],
   "source": [
    "df = pd.read_csv(\"../EyeTrackingTest/Data/Test/1_0.txt\", delimiter=\",\").iloc[:, :-1]"
   ]
  },
  {
   "cell_type": "code",
   "execution_count": null,
   "id": "f401faf9",
   "metadata": {},
   "outputs": [],
   "source": [
    "labelx = []\n",
    "labely = []\n",
    "labelz = []\n",
    "for i in range(df.shape[0] - 1):\n",
    "    label_row = df.iloc[i + 1]\n",
    "    labelx.append(label_row[\"forward.x\"])\n",
    "    labely.append(label_row[\"forward.y\"])\n",
    "    labelz.append(label_row[\"forward.z\"])\n",
    "    \n",
    "df = df.iloc[:-1, :]\n",
    "df[\"label.x\"] = labelx\n",
    "df[\"label.y\"] = labely\n",
    "df[\"label.z\"] = labelz\n",
    "df.head(5)"
   ]
  },
  {
   "cell_type": "code",
   "execution_count": null,
   "id": "775705bb",
   "metadata": {},
   "outputs": [],
   "source": [
    "X = df.iloc[:, 3:-3].to_numpy()\n",
    "y = df.iloc[:, -3:].to_numpy()\n",
    "\n",
    "print(X.shape, y.shape)"
   ]
  },
  {
   "cell_type": "code",
   "execution_count": null,
   "id": "1cd127a8",
   "metadata": {},
   "outputs": [],
   "source": [
    "X = Variable(torch.Tensor(X))\n",
    "y = Variable(torch.Tensor(y))\n",
    "\n",
    "X = torch.reshape(X, (X.shape[0], 1, X.shape[1]))"
   ]
  },
  {
   "cell_type": "code",
   "execution_count": null,
   "id": "c6c939ad",
   "metadata": {},
   "outputs": [],
   "source": [
    "train_predict, _, _ = lr_xyz(X.to(device))\n",
    "data_predict = train_predict.data.cpu().numpy()\n",
    "dataY_plot = y.data.numpy()\n",
    "\n",
    "data_compound = [X[0, 0, 6:9].data.numpy()]\n",
    "hn = None\n",
    "cn = None\n",
    "for i in range(X.size(0)):\n",
    "    instance = X[i:i+1]\n",
    "    pred, hn, cn = lr_xyz(instance.to(device), hn, cn)\n",
    "    pred = pred.data.cpu().numpy()\n",
    "    cur = X[i, 0, 6:9].data.numpy()\n",
    "    data_compound.append(pred[0])\n",
    "    if i < X.size(0) - 1:\n",
    "        X[i+1,0,0:3] = nn.functional.normalize(torch.reshape(X[i+1,0,6:9] + X[i+1,0,0:3] - torch.Tensor(pred[0]), (1,3))).view(-1,3)\n",
    "        X[i+1,0,3:6] = nn.functional.normalize(torch.reshape(X[i+1,0,6:9] + X[i+1,0,3:6] - torch.Tensor(pred[0]), (1,3))).view(-1,3)\n",
    "        X[i+1,0,6] = pred[0,0].item()\n",
    "        X[i+1,0,7] = pred[0,1].item()\n",
    "        X[i+1,0,8] = pred[0,2].item()\n",
    "data_compound = np.array(data_compound)\n",
    "print(data_compound.shape)\n",
    "\n",
    "plt.figure(figsize=(10,6))\n",
    "\n",
    "plt.plot(data)\n",
    "plt.plot(dataY_plot[:, 0], label=\"Actual Data\")\n",
    "plt.plot(data_compound[:, 0], label=\"Predicted Data\")\n",
    "plt.title(\"Neck Prediction X\")\n",
    "plt.legend()\n",
    "plt.show()"
   ]
  },
  {
   "cell_type": "code",
   "execution_count": null,
   "id": "9ae3bb53",
   "metadata": {},
   "outputs": [],
   "source": [
    "plt.figure(figsize=(10,6))\n",
    "\n",
    "plt.plot(dataY_plot[:, 1], label=\"Actual Data\")\n",
    "plt.plot(data_compound[:, 1], label=\"Predicted Data\")\n",
    "plt.title(\"Neck Prediction Y\")\n",
    "plt.legend()\n",
    "plt.show()"
   ]
  },
  {
   "cell_type": "code",
   "execution_count": null,
   "id": "5a964491",
   "metadata": {},
   "outputs": [],
   "source": [
    "plt.figure(figsize=(10,6))\n",
    "\n",
    "plt.plot(dataY_plot[:, 2], label=\"Actual Data\")\n",
    "plt.plot(data_compound[:, 2], label=\"Predicted Data\")\n",
    "plt.title(\"Neck Prediction Z\")\n",
    "plt.legend()\n",
    "plt.show()"
   ]
  },
  {
   "cell_type": "code",
   "execution_count": null,
   "id": "394d7580",
   "metadata": {},
   "outputs": [],
   "source": []
  }
 ],
 "metadata": {
  "kernelspec": {
   "display_name": "Python 3 (ipykernel)",
   "language": "python",
   "name": "python3"
  },
  "language_info": {
   "codemirror_mode": {
    "name": "ipython",
    "version": 3
   },
   "file_extension": ".py",
   "mimetype": "text/x-python",
   "name": "python",
   "nbconvert_exporter": "python",
   "pygments_lexer": "ipython3",
   "version": "3.9.15"
  }
 },
 "nbformat": 4,
 "nbformat_minor": 5
}
